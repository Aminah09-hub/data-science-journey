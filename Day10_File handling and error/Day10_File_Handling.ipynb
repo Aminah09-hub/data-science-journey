{
 "cells": [
  {
   "cell_type": "code",
   "execution_count": 2,
   "id": "0dccbddf",
   "metadata": {},
   "outputs": [
    {
     "ename": "FileNotFoundError",
     "evalue": "[Errno 2] No such file or directory: 'example.txt'",
     "output_type": "error",
     "traceback": [
      "\u001b[1;31m---------------------------------------------------------------------------\u001b[0m",
      "\u001b[1;31mFileNotFoundError\u001b[0m                         Traceback (most recent call last)",
      "Cell \u001b[1;32mIn[2], line 3\u001b[0m\n\u001b[0;32m      1\u001b[0m \u001b[38;5;66;03m#In data science, you’ll often work with files — datasets, logs, or configuration files. Understanding how to read from and write to files in Python is a core skill.\u001b[39;00m\n\u001b[0;32m      2\u001b[0m \u001b[38;5;66;03m#Opening a file\u001b[39;00m\n\u001b[1;32m----> 3\u001b[0m file \u001b[38;5;241m=\u001b[39m \u001b[38;5;28mopen\u001b[39m(\u001b[38;5;124m\"\u001b[39m\u001b[38;5;124mexample.txt\u001b[39m\u001b[38;5;124m\"\u001b[39m, \u001b[38;5;124m\"\u001b[39m\u001b[38;5;124mr\u001b[39m\u001b[38;5;124m\"\u001b[39m)  \n\u001b[0;32m      4\u001b[0m \u001b[38;5;66;03m# \"r\" = read mode\u001b[39;00m\n\u001b[0;32m      5\u001b[0m \n\u001b[0;32m      6\u001b[0m \u001b[38;5;66;03m#Reading a file\u001b[39;00m\n\u001b[0;32m      7\u001b[0m content \u001b[38;5;241m=\u001b[39m file\u001b[38;5;241m.\u001b[39mread()\n",
      "File \u001b[1;32m~\\anaconda3\\Lib\\site-packages\\IPython\\core\\interactiveshell.py:284\u001b[0m, in \u001b[0;36m_modified_open\u001b[1;34m(file, *args, **kwargs)\u001b[0m\n\u001b[0;32m    277\u001b[0m \u001b[38;5;28;01mif\u001b[39;00m file \u001b[38;5;129;01min\u001b[39;00m {\u001b[38;5;241m0\u001b[39m, \u001b[38;5;241m1\u001b[39m, \u001b[38;5;241m2\u001b[39m}:\n\u001b[0;32m    278\u001b[0m     \u001b[38;5;28;01mraise\u001b[39;00m \u001b[38;5;167;01mValueError\u001b[39;00m(\n\u001b[0;32m    279\u001b[0m         \u001b[38;5;124mf\u001b[39m\u001b[38;5;124m\"\u001b[39m\u001b[38;5;124mIPython won\u001b[39m\u001b[38;5;124m'\u001b[39m\u001b[38;5;124mt let you open fd=\u001b[39m\u001b[38;5;132;01m{\u001b[39;00mfile\u001b[38;5;132;01m}\u001b[39;00m\u001b[38;5;124m by default \u001b[39m\u001b[38;5;124m\"\u001b[39m\n\u001b[0;32m    280\u001b[0m         \u001b[38;5;124m\"\u001b[39m\u001b[38;5;124mas it is likely to crash IPython. If you know what you are doing, \u001b[39m\u001b[38;5;124m\"\u001b[39m\n\u001b[0;32m    281\u001b[0m         \u001b[38;5;124m\"\u001b[39m\u001b[38;5;124myou can use builtins\u001b[39m\u001b[38;5;124m'\u001b[39m\u001b[38;5;124m open.\u001b[39m\u001b[38;5;124m\"\u001b[39m\n\u001b[0;32m    282\u001b[0m     )\n\u001b[1;32m--> 284\u001b[0m \u001b[38;5;28;01mreturn\u001b[39;00m io_open(file, \u001b[38;5;241m*\u001b[39margs, \u001b[38;5;241m*\u001b[39m\u001b[38;5;241m*\u001b[39mkwargs)\n",
      "\u001b[1;31mFileNotFoundError\u001b[0m: [Errno 2] No such file or directory: 'example.txt'"
     ]
    }
   ],
   "source": [
    "#In data science, you’ll often work with files — datasets, logs, or configuration files. Understanding how to read from and write to files in Python is a core skill.\n",
    "#Opening a file\n",
    "file = open(\"example.txt\", \"r\")  \n",
    "# \"r\" = read mode\n",
    "\n",
    "#Reading a file\n",
    "content = file.read()\n",
    "print(content)\n",
    "file.close()\n",
    "\n",
    "#Writing to a file\n",
    "file = open(\"example.txt\", \"w\")  \n",
    "# \"w\" = write mode\n",
    "file.write(\"Hello, world!\")\n",
    "file.close()\n",
    "\n",
    "#Appending to a file\n",
    "file = open(\"example.txt\", \"a\")  \n",
    "# \"a\" = append mode\n",
    "file.write(\"\\nThis is a new line.\")\n",
    "file.close()\n",
    "\n",
    "#Using with for Safety (No need to manually close the file)\n",
    "with open(\"example.txt\", \"r\") as file:\n",
    "    content = file.read()\n",
    "    print(content)\n",
    "\n",
    "#Reading line by line\n",
    "with open(\"example.txt\", \"r\") as file:\n",
    "    for line in file:\n",
    "        print(line.strip())\n",
    "\n"
   ]
  },
  {
   "cell_type": "code",
   "execution_count": 11,
   "id": "d9bf1ba0",
   "metadata": {},
   "outputs": [
    {
     "name": "stdout",
     "output_type": "stream",
     "text": [
      "This is the first line.\n",
      "Here's the second line.\n",
      "And this is the third line.\n",
      "\n",
      "This is the first line.\n",
      "Here's the second line.\n",
      "And this is the third line.\n",
      "This is the fourth line.\n",
      "This is the fifth line.\n",
      "\n",
      "This is the first line.\n",
      "Here's the second line.\n",
      "And this is the third line.\n",
      "This is the fourth line.\n",
      "This is the fifth line.\n"
     ]
    }
   ],
   "source": [
    "#Practice Exercises\n",
    "#Create a text file called my_notes.txt\n",
    "#Write at least 3 lines of text into it using Python\n",
    "with open(\"my_notes.txt\", \"w\") as file:\n",
    "    file.write(\"This is the first line.\\n\")\n",
    "    file.write(\"Here's the second line.\\n\")\n",
    "    file.write(\"And this is the third line.\\n\")\n",
    "    \n",
    "#Read back the content of my_notes.txt and print it\n",
    "file = open(\"my_notes.txt\", \"r\")\n",
    "print(file.read())  \n",
    "file.close() \n",
    "\n",
    "#Append two more lines to my_notes.txt\n",
    "#Print the full file content afterward\n",
    "file = open(\"my_notes.txt\", \"a\")\n",
    "file.write(\"This is the fourth line.\\n\")\n",
    "file.write(\"This is the fifth line.\\n\")\n",
    "file.close()\n",
    "\n",
    "file = open(\"my_notes.txt\", \"r\")\n",
    "print(file.read())\n",
    "file.close()\n",
    "\n",
    "#Using a with statement, read and print each line one by one\n",
    "with open(\"my_notes.txt\", \"r\") as file:\n",
    "    for line in file:\n",
    "        print(line.strip())\n"
   ]
  },
  {
   "cell_type": "code",
   "execution_count": 15,
   "id": "cbebcbc8",
   "metadata": {},
   "outputs": [
    {
     "name": "stdout",
     "output_type": "stream",
     "text": [
      "Oops! The file doesn't exist.\n",
      "File not found.\n",
      "An error occurred: [Errno 2] No such file or directory: 'sample.txt'\n",
      "File closed.\n"
     ]
    }
   ],
   "source": [
    "#Error handling is essential when dealing with files — for example, the file might not exist, or you might not have permission to read/write.\n",
    "#Handling file not found\n",
    "try:\n",
    "    with open(\"data.txt\", \"r\") as f:\n",
    "        content = f.read()\n",
    "        print(content)\n",
    "except FileNotFoundError:\n",
    "    print(\"Oops! The file doesn't exist.\")\n",
    "\n",
    "#Catching multiple error types\n",
    "try:\n",
    "    f = open(\"data.txt\", \"r\")\n",
    "    number = int(f.readline())\n",
    "    result = 10 / number\n",
    "    f.close()\n",
    "except FileNotFoundError:\n",
    "    print(\"File not found.\")\n",
    "except ValueError:\n",
    "    print(\"Could not convert data to an integer.\")\n",
    "except ZeroDivisionError:\n",
    "    print(\"Cannot divide by zero.\")\n",
    "except Exception as e:\n",
    "    print(\"Something went wrong:\", e)\n",
    "\n",
    "#Using \"finally\" for cleanup\n",
    "try:\n",
    "    f = open(\"sample.txt\", \"r\")\n",
    "    print(f.read())\n",
    "except Exception as e:\n",
    "    print(\"An error occurred:\", e)\n",
    "finally:\n",
    "    f.close()\n",
    "    print(\"File closed.\")\n"
   ]
  }
 ],
 "metadata": {
  "kernelspec": {
   "display_name": "Python 3 (ipykernel)",
   "language": "python",
   "name": "python3"
  },
  "language_info": {
   "codemirror_mode": {
    "name": "ipython",
    "version": 3
   },
   "file_extension": ".py",
   "mimetype": "text/x-python",
   "name": "python",
   "nbconvert_exporter": "python",
   "pygments_lexer": "ipython3",
   "version": "3.11.4"
  }
 },
 "nbformat": 4,
 "nbformat_minor": 5
}
