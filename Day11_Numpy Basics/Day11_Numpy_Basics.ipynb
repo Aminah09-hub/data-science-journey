{
 "cells": [
  {
   "cell_type": "code",
   "execution_count": 8,
   "id": "5aab723d",
   "metadata": {},
   "outputs": [
    {
     "name": "stdout",
     "output_type": "stream",
     "text": [
      "[1 2 3 4]\n",
      "[[0. 0. 0.]\n",
      " [0. 0. 0.]]\n",
      "[[1. 1.]\n",
      " [1. 1.]\n",
      " [1. 1.]]\n",
      "[0 2 4 6 8]\n",
      "[0.   0.25 0.5  0.75 1.  ]\n",
      "20\n",
      "[20 30 40]\n",
      "6\n",
      "[2 5]\n",
      "[1 2 3]\n",
      "[5 7 9]\n",
      "[2 4 6]\n",
      "[1 4 9]\n",
      "3.0\n",
      "5\n",
      "1\n",
      "15\n"
     ]
    }
   ],
   "source": [
    "#NumPy — the foundational package for numerical computing in Python.\n",
    "#NumPy (Numerical Python) allows you to work with large, multi-dimensional arrays and matrices, along with a collection of mathematical functions to operate on them\n",
    "#Importing numpy\n",
    "import numpy as np\n",
    "\n",
    "#Creating Arrays\n",
    "arr = np.array([1, 2, 3, 4])\n",
    "print(arr)\n",
    "#np.array(): From lists\n",
    "#np.zeros(): Array of all zeros\n",
    "#np.ones(): Array of all ones\n",
    "#np.arange(start, stop, step): Like Python’s range()\n",
    "#np.linspace(start, stop, num): Evenly spaced values\n",
    "ar1 = np.zeros((2,3))\n",
    "print(ar1)\n",
    "ar2 = np.ones((3,2))\n",
    "print(ar2)\n",
    "ar3 = np.arange(0, 10, 2)\n",
    "print(ar3)\n",
    "ar4 = np.linspace(0, 1, 5) \n",
    "print(ar4)\n",
    "\n",
    "#Array Indexing and Slicing\n",
    "a = np.array([10, 20, 30, 40, 50])\n",
    "print(a[1])     \n",
    "print(a[1:4])   \n",
    "#For 2D Arrays\n",
    "b = np.array([[1,2,3], [4,5,6]])\n",
    "print(b[1,2])   \n",
    "print(b[:,1])   \n",
    "print(b[0,:])  \n",
    "\n",
    "#Basic Operations\n",
    "c = np.array([1, 2, 3])\n",
    "d = np.array([4, 5, 6])\n",
    "print(c + d)  \n",
    "print(c * 2)   \n",
    "print(c ** 2)  \n",
    "\n",
    "#Useful array functions\n",
    "arr1 = np.array([1, 2, 3, 4, 5])\n",
    "print(np.mean(arr1))   \n",
    "print(np.max(arr1))    \n",
    "print(np.min(arr1))    \n",
    "print(np.sum(arr1))    \n"
   ]
  },
  {
   "cell_type": "code",
   "execution_count": 9,
   "id": "2a216993",
   "metadata": {},
   "outputs": [
    {
     "name": "stdout",
     "output_type": "stream",
     "text": [
      "[20 25 30]\n",
      "22.5\n",
      "35\n",
      "10\n",
      "8.539125638299666\n"
     ]
    }
   ],
   "source": [
    "#Practice Exercises\n",
    "#Create a 1D array of numbers from 10 to 50 with a step of 5\n",
    "arr2 = np.arange(10, 50, 5)\n",
    "\n",
    "#Create a 3x3 NumPy array filled with random integers between 1 and 100\n",
    "arr4 = np.array([[2, 56, 67], [33, 77, 12], [3, 6, 89]])\n",
    "\n",
    "#Given the array below, slice out the middle row\n",
    "arr5 = np.array([[5, 10, 15],\n",
    "              [20, 25, 30],\n",
    "              [35, 40, 45]])\n",
    "print(arr5[1,:])\n",
    "#Find the mean, max, min, and standard deviation of the following array\n",
    "arr6 = np.array([10, 15, 20, 25, 30, 35])\n",
    "print(np.mean(arr6))\n",
    "print(np.max(arr6))\n",
    "print(np.min(arr6))\n",
    "print(np.std(arr6))"
   ]
  }
 ],
 "metadata": {
  "kernelspec": {
   "display_name": "Python 3 (ipykernel)",
   "language": "python",
   "name": "python3"
  },
  "language_info": {
   "codemirror_mode": {
    "name": "ipython",
    "version": 3
   },
   "file_extension": ".py",
   "mimetype": "text/x-python",
   "name": "python",
   "nbconvert_exporter": "python",
   "pygments_lexer": "ipython3",
   "version": "3.11.4"
  }
 },
 "nbformat": 4,
 "nbformat_minor": 5
}
