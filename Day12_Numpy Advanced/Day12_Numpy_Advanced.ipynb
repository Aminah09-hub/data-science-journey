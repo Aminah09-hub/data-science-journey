{
 "cells": [
  {
   "cell_type": "code",
   "execution_count": 1,
   "id": "bc43f42d",
   "metadata": {},
   "outputs": [
    {
     "name": "stdout",
     "output_type": "stream",
     "text": [
      "[6 7 8]\n",
      "[[11 22 33]\n",
      " [14 25 36]]\n"
     ]
    }
   ],
   "source": [
    "#Broadcasting lets NumPy automatically expand the dimensions of smaller arrays so operations can be performed without explicitly reshaping.\n",
    "import numpy as np\n",
    "#Add a scalar to a NumPy array\n",
    "a = np.array([1, 2, 3])\n",
    "b = 5\n",
    "print(a + b)  # [6 7 8]\n",
    "\n",
    "#Adding arrays of different shapes\n",
    "a = np.array([[1, 2, 3],\n",
    "              [4, 5, 6]])\n",
    "b = np.array([10, 20, 30])\n",
    "print(a + b)\n"
   ]
  },
  {
   "cell_type": "code",
   "execution_count": 2,
   "id": "ff627ec2",
   "metadata": {},
   "outputs": [
    {
     "name": "stdout",
     "output_type": "stream",
     "text": [
      "21\n",
      "3.5\n",
      "1\n",
      "1.707825127659933\n",
      "2.9166666666666665\n",
      "6\n",
      "[5 7 9]\n",
      "[ 6 15]\n"
     ]
    }
   ],
   "source": [
    "#Aggregation Functions\n",
    "a = np.array([[1, 2, 3],\n",
    "              [4, 5, 6]])\n",
    "print(np.sum(a))        \n",
    "print(np.mean(a))       \n",
    "print(np.min(a))        \n",
    "print(np.std(a))\n",
    "print(np.var(a))\n",
    "print(np.max(a))\n",
    "\n",
    "#Aggregate across rows or columns\n",
    "print(np.sum(a, axis=0))  \n",
    "print(np.sum(a, axis=1))  \n",
    "#axis=0: Operate down columns (vertical)\n",
    "#axis=1: Operate across rows (horizontal)"
   ]
  },
  {
   "cell_type": "code",
   "execution_count": 7,
   "id": "7565bfe1",
   "metadata": {},
   "outputs": [
    {
     "name": "stdout",
     "output_type": "stream",
     "text": [
      "[[ 6 12]\n",
      " [16 22]]\n",
      "Sum of each row: [15 24 33]\n",
      "[15 24 33]\n",
      "[7. 8. 9.]\n",
      "2.581988897471611\n"
     ]
    }
   ],
   "source": [
    "#Practice Exercises\n",
    "#Add 'a' and 'b' using broadcasting and print the result\n",
    "a = np.array([[5, 10], [15, 20]])\n",
    "b = np.array([1, 2])\n",
    "print(a + b)\n",
    "\n",
    "# Task 1: Print the sum of each row\n",
    "# Task 2: Print the mean of each column\n",
    "# Task 3: Print the standard deviation of the entire array\n",
    "x = np.array([[4, 5, 6],\n",
    "              [7, 8, 9],\n",
    "              [10, 11, 12]])\n",
    "row_sums = np.sum(x, axis=1)\n",
    "print(\"Sum of each row:\", row_sums)\n",
    "print(np.sum(x, axis=1))\n",
    "print(np.mean(x, axis=0))\n",
    "print(np.std(x))"
   ]
  }
 ],
 "metadata": {
  "kernelspec": {
   "display_name": "Python 3 (ipykernel)",
   "language": "python",
   "name": "python3"
  },
  "language_info": {
   "codemirror_mode": {
    "name": "ipython",
    "version": 3
   },
   "file_extension": ".py",
   "mimetype": "text/x-python",
   "name": "python",
   "nbconvert_exporter": "python",
   "pygments_lexer": "ipython3",
   "version": "3.11.4"
  }
 },
 "nbformat": 4,
 "nbformat_minor": 5
}
