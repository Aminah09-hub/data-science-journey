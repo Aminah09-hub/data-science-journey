{
 "cells": [
  {
   "cell_type": "code",
   "execution_count": 1,
   "id": "08686cc6",
   "metadata": {},
   "outputs": [
    {
     "name": "stdout",
     "output_type": "stream",
     "text": [
      "1\n",
      "3\n",
      "(20, 30, 40)\n",
      "2\n",
      "2\n"
     ]
    },
    {
     "ename": "TypeError",
     "evalue": "'tuple' object does not support item assignment",
     "output_type": "error",
     "traceback": [
      "\u001b[1;31m---------------------------------------------------------------------------\u001b[0m",
      "\u001b[1;31mTypeError\u001b[0m                                 Traceback (most recent call last)",
      "Cell \u001b[1;32mIn[1], line 23\u001b[0m\n\u001b[0;32m     21\u001b[0m \u001b[38;5;66;03m#Immutability\u001b[39;00m\n\u001b[0;32m     22\u001b[0m t \u001b[38;5;241m=\u001b[39m (\u001b[38;5;241m1\u001b[39m, \u001b[38;5;241m2\u001b[39m, \u001b[38;5;241m3\u001b[39m)\n\u001b[1;32m---> 23\u001b[0m t[\u001b[38;5;241m0\u001b[39m] \u001b[38;5;241m=\u001b[39m \u001b[38;5;241m5\u001b[39m\n",
      "\u001b[1;31mTypeError\u001b[0m: 'tuple' object does not support item assignment"
     ]
    }
   ],
   "source": [
    "#Creating Tuples\n",
    "my_tuple = (1, 2, 3)\n",
    "empty_tuple = ()\n",
    "mixed_tuple = (1, \"data\", 3.14)\n",
    "\n",
    "#Accessing elements\n",
    "print(my_tuple[0])  # 1\n",
    "print(my_tuple[-1]) # 3\n",
    "\n",
    "#Slicing Tuples\n",
    "sample = (10, 20, 30, 40, 50)\n",
    "print(sample[1:4])  # (20, 30, 40)\n",
    "\n",
    "#Tuples methods\n",
    "nums = (1, 2, 3, 2)\n",
    "#Count occurrences of 2\n",
    "print(nums.count(2))   # 2\n",
    "#Find the index of 3\n",
    "print(nums.index(3))   # 2\n",
    "\n",
    "#Immutability\n",
    "t = (1, 2, 3)\n",
    "t[0] = 5  # ❌ Error: Tuples do not support item assignment\n",
    "\n"
   ]
  },
  {
   "cell_type": "code",
   "execution_count": 2,
   "id": "7431e882",
   "metadata": {},
   "outputs": [
    {
     "name": "stdout",
     "output_type": "stream",
     "text": [
      "Kiwi\n",
      "(30, 40, 50)\n",
      "3\n"
     ]
    },
    {
     "ename": "TypeError",
     "evalue": "'tuple' object does not support item assignment",
     "output_type": "error",
     "traceback": [
      "\u001b[1;31m---------------------------------------------------------------------------\u001b[0m",
      "\u001b[1;31mTypeError\u001b[0m                                 Traceback (most recent call last)",
      "Cell \u001b[1;32mIn[2], line 16\u001b[0m\n\u001b[0;32m     14\u001b[0m \u001b[38;5;66;03m#Try to modify a tuple element and catch the error using try-except\u001b[39;00m\n\u001b[0;32m     15\u001b[0m Color \u001b[38;5;241m=\u001b[39m (\u001b[38;5;124m\"\u001b[39m\u001b[38;5;124mPurple\u001b[39m\u001b[38;5;124m\"\u001b[39m, \u001b[38;5;124m\"\u001b[39m\u001b[38;5;124mPink\u001b[39m\u001b[38;5;124m\"\u001b[39m, \u001b[38;5;124m\"\u001b[39m\u001b[38;5;124mBlue\u001b[39m\u001b[38;5;124m\"\u001b[39m)\n\u001b[1;32m---> 16\u001b[0m Color[\u001b[38;5;241m0\u001b[39m] \u001b[38;5;241m=\u001b[39m \u001b[38;5;124m\"\u001b[39m\u001b[38;5;124mOrange\u001b[39m\u001b[38;5;124m\"\u001b[39m\n",
      "\u001b[1;31mTypeError\u001b[0m: 'tuple' object does not support item assignment"
     ]
    }
   ],
   "source": [
    "#Practice Exercises\n",
    "#Create tuple of 5 fruits and print the third one\n",
    "fruits = (\"Mango\", \"Watermelon\", \"Kiwi\", \"Papaya\", \"Orange\")\n",
    "print(fruits[2])\n",
    "\n",
    "#Slice out the middle 3 elements from this tuple (Tuple was given)\n",
    "t1 = (10, 20, 30, 40, 50, 60, 70)\n",
    "print(t1[2:5])\n",
    "\n",
    "#Count how many times 2 appears in this tuple (Tuple was given)\n",
    "t2 = (1, 2, 3, 2, 4, 2, 5)\n",
    "print(t2.count(2))\n",
    "\n",
    "#Try to modify a tuple element and catch the error using try-except\n",
    "Color = (\"Purple\", \"Pink\", \"Blue\")\n",
    "Color[0] = \"Orange\""
   ]
  }
 ],
 "metadata": {
  "kernelspec": {
   "display_name": "Python 3 (ipykernel)",
   "language": "python",
   "name": "python3"
  },
  "language_info": {
   "codemirror_mode": {
    "name": "ipython",
    "version": 3
   },
   "file_extension": ".py",
   "mimetype": "text/x-python",
   "name": "python",
   "nbconvert_exporter": "python",
   "pygments_lexer": "ipython3",
   "version": "3.11.4"
  }
 },
 "nbformat": 4,
 "nbformat_minor": 5
}
