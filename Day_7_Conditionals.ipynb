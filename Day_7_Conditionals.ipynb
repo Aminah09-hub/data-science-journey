{
 "cells": [
  {
   "cell_type": "code",
   "execution_count": 1,
   "id": "f6347983",
   "metadata": {},
   "outputs": [
    {
     "name": "stdout",
     "output_type": "stream",
     "text": [
      "You are an adult.\n",
      "Adult\n",
      "C\n",
      "Weather is good\n"
     ]
    }
   ],
   "source": [
    "#Basic \"if\" statement\n",
    "age = 18\n",
    "if age >= 18:\n",
    "    print(\"You are an adult.\")\n",
    "\n",
    "#\"if....else\"\n",
    "if age >= 18:\n",
    "    print(\"Adult\")\n",
    "else:\n",
    "    print(\"Minor\")\n",
    "\n",
    "#\"if...elif...else\"\n",
    "score = 75\n",
    "if score >= 90:\n",
    "    print(\"A\")\n",
    "elif score >= 80:\n",
    "    print(\"B\")\n",
    "elif score >= 70:\n",
    "    print(\"C\")\n",
    "else:\n",
    "    print(\"F\")\n",
    "\n",
    "#Logical Operators\n",
    "temp = 25\n",
    "humidity = 60\n",
    "\n",
    "if temp > 20 and humidity < 70:\n",
    "    print(\"Weather is good\")\n",
    "\n",
    "\n"
   ]
  },
  {
   "cell_type": "code",
   "execution_count": 4,
   "id": "ec6f96b0",
   "metadata": {},
   "outputs": [
    {
     "name": "stdout",
     "output_type": "stream",
     "text": [
      "Enter a number: 33\n",
      "The number is positive.\n",
      "What's your age: 72\n",
      "Senior\n",
      "Enter your score (0–100): 77\n",
      "Grade: C\n"
     ]
    }
   ],
   "source": [
    "#Practice Exercises\n",
    "\n",
    "#Write a program that checks if a number is positive, negative or zero\n",
    "number = float(input(\"Enter a number: \"))\n",
    "if number > 0:\n",
    "    print(\"The number is positive.\")\n",
    "elif number < 0:\n",
    "    print(\"The number is negative.\")\n",
    "else:\n",
    "    print(\"The number is zero.\")\n",
    "\n",
    "#Ask the user for their age. Print:\n",
    "#“Child” if age < 13\n",
    "#“Teenager” if 13 <= age < 20\n",
    "#“Adult” if 20 <= age < 65\n",
    "#“Senior” if age >= 65\n",
    "age = int(input(\"What's your age: \"))\n",
    "if age < 13:\n",
    "    print(\"Child\")\n",
    "elif age < 20 and age >= 13:\n",
    "    print(\"Teenager\")\n",
    "elif age < 65 and age >= 20:\n",
    "    print(\"Adult\")\n",
    "else:\n",
    "    print(\"Senior\")\n",
    "\n",
    "#Create a grading system using if...elif...else that prints grades A to F based on the score.\n",
    "score = int(input(\"Enter your score (0–100): \"))\n",
    "if score < 0 or score > 100:\n",
    "    print(\"Invalid score. Please enter a number between 0 and 100.\")\n",
    "elif score >= 90:\n",
    "    print(\"Grade: A\")\n",
    "elif score >= 80:\n",
    "    print(\"Grade: B\")\n",
    "elif score >= 70:\n",
    "    print(\"Grade: C\")\n",
    "elif score >= 60:\n",
    "    print(\"Grade: D\")\n",
    "else:\n",
    "    print(\"Grade: F\")\n"
   ]
  }
 ],
 "metadata": {
  "kernelspec": {
   "display_name": "Python 3 (ipykernel)",
   "language": "python",
   "name": "python3"
  },
  "language_info": {
   "codemirror_mode": {
    "name": "ipython",
    "version": 3
   },
   "file_extension": ".py",
   "mimetype": "text/x-python",
   "name": "python",
   "nbconvert_exporter": "python",
   "pygments_lexer": "ipython3",
   "version": "3.11.4"
  }
 },
 "nbformat": 4,
 "nbformat_minor": 5
}
