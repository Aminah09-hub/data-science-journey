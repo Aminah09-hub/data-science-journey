{
 "cells": [
  {
   "cell_type": "code",
   "execution_count": 1,
   "id": "328f2f0e",
   "metadata": {},
   "outputs": [
    {
     "name": "stdout",
     "output_type": "stream",
     "text": [
      "Enter your name: aminah\n",
      "Hello, aminah\n"
     ]
    }
   ],
   "source": [
    "your_name = input(\"Enter your name: \")\n",
    "print(\"Hello,\", your_name)"
   ]
  },
  {
   "cell_type": "code",
   "execution_count": 5,
   "id": "2f9f929e",
   "metadata": {},
   "outputs": [
    {
     "name": "stdout",
     "output_type": "stream",
     "text": [
      "Enter your name: Aminah\n",
      "Enter your age: 21\n",
      "Enter your location: Abuja\n",
      "My name is Aminah . I am 21 years old and i live in Abuja .\n"
     ]
    }
   ],
   "source": [
    "#Asking for name, age and location as input\n",
    "your_name = input(\"Enter your name: \")\n",
    "your_age = input(\"Enter your age: \")\n",
    "your_location = input(\"Enter your location: \")\n",
    "print(\"My name is\", your_name, \".\", \"I am\", your_age, \"years old and i live in\", your_location, \".\")"
   ]
  },
  {
   "cell_type": "code",
   "execution_count": 9,
   "id": "12cd12af",
   "metadata": {},
   "outputs": [
    {
     "name": "stdout",
     "output_type": "stream",
     "text": [
      "Enter your age:12\n",
      "144\n",
      "144\n"
     ]
    }
   ],
   "source": [
    "#Asking for age and multiplying it by 12(months in a year) and raise to the power of 2\n",
    "your_age = int(input(\"Enter your age:\"))\n",
    "X = your_age * 12\n",
    "Y = your_age ** 2\n",
    "print(X)\n",
    "print(Y)\n"
   ]
  },
  {
   "cell_type": "code",
   "execution_count": null,
   "id": "88cda4cd",
   "metadata": {},
   "outputs": [],
   "source": []
  }
 ],
 "metadata": {
  "kernelspec": {
   "display_name": "Python 3 (ipykernel)",
   "language": "python",
   "name": "python3"
  },
  "language_info": {
   "codemirror_mode": {
    "name": "ipython",
    "version": 3
   },
   "file_extension": ".py",
   "mimetype": "text/x-python",
   "name": "python",
   "nbconvert_exporter": "python",
   "pygments_lexer": "ipython3",
   "version": "3.11.4"
  }
 },
 "nbformat": 4,
 "nbformat_minor": 5
}
