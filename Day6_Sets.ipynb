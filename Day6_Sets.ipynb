{
 "cells": [
  {
   "cell_type": "code",
   "execution_count": 1,
   "id": "82892d60",
   "metadata": {},
   "outputs": [
    {
     "name": "stdout",
     "output_type": "stream",
     "text": [
      "{1, 2, 3, 4, 5}\n",
      "{3}\n",
      "{1, 2}\n",
      "{1, 2, 4, 5}\n",
      "red\n",
      "blue\n",
      "green\n"
     ]
    }
   ],
   "source": [
    "#What are sets?\n",
    "#An unordered, unindexed collection.\n",
    "#Mutable, meaning you can add or remove items.\n",
    "#It automatically removes duplicates.\n",
    "#Items must be immutable (you can’t put a list inside a set)\n",
    "\n",
    "#2 ways to create sets\n",
    "#With curly braces {}\n",
    "s1 = {1, 2, 3}\n",
    "#With the set() constructor\n",
    "s2 = set([4, 5, 6])\n",
    "\n",
    "#empty_set = {} creates a dictionary, not a set.\n",
    "#Use empty_set = set() instead\n",
    "\n",
    "#Adding elements\n",
    "s = {1, 2}\n",
    "s.add(3)  \n",
    "\n",
    "#Updating with multiple elements\n",
    "s.update([4, 5])  \n",
    "\n",
    "#Remove and Discard\n",
    "s.remove(2)     # Removes 2; throws error if not found\n",
    "s.discard(10)   # Tries to remove 10; no error if not found\n",
    "\n",
    "#Clearing the set\n",
    "s.clear()\n",
    "\n",
    "#Set Operations\n",
    "#Union - All elements\n",
    "a = {1, 2, 3}\n",
    "b = {3, 4, 5}\n",
    "print(a.union(b))  \n",
    "\n",
    "#Intersection - Common elements\n",
    "print(a.intersection(b))  \n",
    "\n",
    "#Difference - whats in a but not in b\n",
    "print(a.difference(b))\n",
    "\n",
    "#Symmetric Difference - Elements not shared\n",
    "print(a.symmetric_difference(b))  \n",
    "\n",
    "#Looping through sets\n",
    "colors = {\"red\", \"green\", \"blue\"}\n",
    "for color in colors:\n",
    "    print(color)\n",
    "\n",
    "#Check for shared items between datasets\n",
    "#Fast membership checking\n",
    "#\"banana\" in fruit_set  # Very fast\n"
   ]
  },
  {
   "cell_type": "code",
   "execution_count": 2,
   "id": "3f50dd2e",
   "metadata": {},
   "outputs": [
    {
     "name": "stdout",
     "output_type": "stream",
     "text": [
      "{1, 2, 3, 4, 5, 6, 7, 8}\n",
      "{4, 5}\n",
      "{1, 2, 3}\n",
      "False\n",
      "{1, 2, 3, 4, 5}\n"
     ]
    }
   ],
   "source": [
    "#Practice Exercise\n",
    "\n",
    "set_a = {1, 2, 3, 4, 5}\n",
    "set_b = {4, 5, 6, 7, 8}\n",
    "\n",
    "#Union\n",
    "print(set_a.union(set_b))\n",
    "\n",
    "#Intersection\n",
    "print(set_a.intersection(set_b))\n",
    "\n",
    "#Difference\n",
    "print(set_a - set_b)\n",
    "\n",
    "#Disjoint\n",
    "print(set_a.isdisjoint(set_b)) \n",
    "\n",
    "nums = [1, 2, 2, 3, 4, 4, 5]\n",
    "#Remove duplicates from this list above\n",
    "unique_nums = set(nums)\n",
    "print(unique_nums)"
   ]
  }
 ],
 "metadata": {
  "kernelspec": {
   "display_name": "Python 3 (ipykernel)",
   "language": "python",
   "name": "python3"
  },
  "language_info": {
   "codemirror_mode": {
    "name": "ipython",
    "version": 3
   },
   "file_extension": ".py",
   "mimetype": "text/x-python",
   "name": "python",
   "nbconvert_exporter": "python",
   "pygments_lexer": "ipython3",
   "version": "3.11.4"
  }
 },
 "nbformat": 4,
 "nbformat_minor": 5
}
