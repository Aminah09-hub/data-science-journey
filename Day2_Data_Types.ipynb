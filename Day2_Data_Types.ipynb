{
 "cells": [
  {
   "cell_type": "code",
   "execution_count": 1,
   "id": "be0b77aa",
   "metadata": {},
   "outputs": [
    {
     "name": "stdout",
     "output_type": "stream",
     "text": [
      "Python\n",
      "Excel\n",
      "4\n",
      "['Python', 'Julia']\n"
     ]
    }
   ],
   "source": [
    "# Creating a list\n",
    "languages = [\"Python\", \"SQL\", \"R\", \"Excel\"]\n",
    "\n",
    "# Accessing list items\n",
    "print(languages[0])      # \"Python\"\n",
    "print(languages[-1])     # \"Excel\"\n",
    "\n",
    "# Modifying\n",
    "languages[1] = \"Julia\"   # Replace \"SQL\" with \"Julia\"\n",
    "\n",
    "# Adding items\n",
    "languages.append(\"SQL\")   # Add back at the end\n",
    "\n",
    "# Removing items\n",
    "languages.remove(\"R\")     # Remove by value\n",
    "\n",
    "# Length of list\n",
    "print(len(languages))     # Number of items\n",
    "\n",
    "# Slicing\n",
    "print(languages[0:2])     # ['Python', 'Julia']\n"
   ]
  },
  {
   "cell_type": "code",
   "execution_count": 2,
   "id": "f79ac2ad",
   "metadata": {},
   "outputs": [
    {
     "name": "stdout",
     "output_type": "stream",
     "text": [
      "AMINAH\n",
      "Aminah\n",
      "@min@h\n",
      "My name is Aminah and I’m 21 years old.\n",
      "6\n"
     ]
    }
   ],
   "source": [
    "name = \"aminah\"\n",
    "\n",
    "# String methods\n",
    "print(name.upper())      # AMINAH\n",
    "print(name.capitalize()) # Aminah\n",
    "print(name.replace(\"a\", \"@\"))  # \"@min@h\"\n",
    "\n",
    "# F-strings (for clean formatting)\n",
    "age = 21\n",
    "print(f\"My name is {name.capitalize()} and I’m {age} years old.\")\n",
    "\n",
    "# String length\n",
    "print(len(name))  # 6\n"
   ]
  },
  {
   "cell_type": "code",
   "execution_count": 4,
   "id": "f017d3ae",
   "metadata": {},
   "outputs": [
    {
     "name": "stdout",
     "output_type": "stream",
     "text": [
      "6\n",
      "['Chicken', 'Fish']\n"
     ]
    }
   ],
   "source": [
    "#Practice Exercises\n",
    "\n",
    "#List of five favorite foods\n",
    "fav_foods = [\"Burger\", \"Rice\", \"Chips\", \"Burrito\", \"pizza\"]\n",
    "\n",
    "#Replacing second item\n",
    "fav_foods[1] = \"Shawarma\"\n",
    "\n",
    "#Removing one item\n",
    "fav_foods.remove(\"Chips\")\n",
    "\n",
    "#Adding two items\n",
    "fav_foods.append(\"Chicken\")\n",
    "fav_foods.append(\"Fish\")\n",
    "\n",
    "#printing the list length\n",
    "print(len(fav_foods))\n",
    "\n",
    "#Slicing the last two items\n",
    "print(fav_foods[-2:])"
   ]
  },
  {
   "cell_type": "code",
   "execution_count": 6,
   "id": "d8437ef5",
   "metadata": {},
   "outputs": [
    {
     "name": "stdout",
     "output_type": "stream",
     "text": [
      "FATIMAH\n",
      "fatimah\n",
      "-F-a-t-i-m-a-h-\n",
      "Hi, My name is Fatimah and I love Python\n"
     ]
    }
   ],
   "source": [
    "#Practice Exercise\n",
    "\n",
    "#Create a string with a name\n",
    "name = \"Fatimah\"\n",
    "\n",
    "#Print it in uppercase\n",
    "print(name.upper())\n",
    "\n",
    "#Print it in lowercase\n",
    "print(name.lower())\n",
    "\n",
    "#Replacing all spaces with hyphen \"-\"\n",
    "print(name.replace(\"\", \"-\"))\n",
    "\n",
    "#Print a sentense using f-string\n",
    "print(f\"Hi, My name is {name} and I love Python\")"
   ]
  }
 ],
 "metadata": {
  "kernelspec": {
   "display_name": "Python 3 (ipykernel)",
   "language": "python",
   "name": "python3"
  },
  "language_info": {
   "codemirror_mode": {
    "name": "ipython",
    "version": 3
   },
   "file_extension": ".py",
   "mimetype": "text/x-python",
   "name": "python",
   "nbconvert_exporter": "python",
   "pygments_lexer": "ipython3",
   "version": "3.11.4"
  }
 },
 "nbformat": 4,
 "nbformat_minor": 5
}
