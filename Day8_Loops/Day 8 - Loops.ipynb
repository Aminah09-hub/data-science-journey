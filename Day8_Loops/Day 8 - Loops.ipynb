{
 "cells": [
  {
   "cell_type": "code",
   "execution_count": 1,
   "id": "00ea9baf",
   "metadata": {},
   "outputs": [
    {
     "name": "stdout",
     "output_type": "stream",
     "text": [
      "1\n",
      "2\n",
      "3\n",
      "0\n",
      "1\n",
      "2\n"
     ]
    }
   ],
   "source": [
    "#Loops help you execute a block of code multiple times\n",
    "\n",
    "#types of loops\n",
    "#\"for\" loop used to iterate over a sequence (like list, tuple, string, etc.)\n",
    "for item in [1, 2, 3]:\n",
    "    print(item)\n",
    "\n",
    "#\"while\" loop runs as long as a condition is True\n",
    "i = 0\n",
    "while i < 3:\n",
    "    print(i)\n",
    "    i += 1\n",
    "\n",
    "# Loop Control Statements:\n",
    "#break – exits the loop early\n",
    "#continue – skips current iteration\n",
    "#pass – does nothing (placeholder)\n",
    "\n"
   ]
  },
  {
   "cell_type": "code",
   "execution_count": 3,
   "id": "151f99ba",
   "metadata": {},
   "outputs": [
    {
     "name": "stdout",
     "output_type": "stream",
     "text": [
      "D\n",
      "a\n",
      "t\n",
      "a\n",
      "0\n",
      "1\n",
      "2\n",
      "3\n",
      "4\n",
      "5\n",
      "Sum: 30\n",
      "55 - Fail\n",
      "70 - Pass\n",
      "89 - Pass\n",
      "45 - Fail\n",
      "100 - Pass\n"
     ]
    }
   ],
   "source": [
    "#Practice Exercises\n",
    "\n",
    "#Print each character in the word \"Data\" using a for loop.\n",
    "for char in \"Data\":\n",
    "    print(char)\n",
    "\n",
    "#Use a while loop to print numbers from 1 to 5.\n",
    "i = 0\n",
    "while i <= 5: \n",
    "    print(i)\n",
    "    i += 1\n",
    "\n",
    "#Use a for loop to sum all even numbers from 1 to 10.\n",
    "total = 0\n",
    "for k in range(1,11):\n",
    "    if k % 2 == 0:\n",
    "        total += k\n",
    "print(\"Sum:\", total)\n",
    "\n",
    "#Loop through a list of scores [55, 70, 89, 45, 100].\n",
    "#Print \"Pass\" if score ≥ 60, \"Fail\" otherwise.\n",
    "scores = [55, 70, 89, 45, 100]\n",
    "for score in scores:\n",
    "    if score >= 60:\n",
    "        print(score, \"- Pass\")\n",
    "    else:\n",
    "        print(score, \"- Fail\")"
   ]
  }
 ],
 "metadata": {
  "kernelspec": {
   "display_name": "Python 3 (ipykernel)",
   "language": "python",
   "name": "python3"
  },
  "language_info": {
   "codemirror_mode": {
    "name": "ipython",
    "version": 3
   },
   "file_extension": ".py",
   "mimetype": "text/x-python",
   "name": "python",
   "nbconvert_exporter": "python",
   "pygments_lexer": "ipython3",
   "version": "3.11.4"
  }
 },
 "nbformat": 4,
 "nbformat_minor": 5
}
