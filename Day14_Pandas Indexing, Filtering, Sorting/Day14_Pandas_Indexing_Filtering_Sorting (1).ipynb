{
 "cells": [
  {
   "cell_type": "code",
   "execution_count": 7,
   "id": "5c8211a4",
   "metadata": {},
   "outputs": [
    {
     "name": "stdout",
     "output_type": "stream",
     "text": [
      "['.conda', '.condarc', '.continuum', '.ipynb_checkpoints', '.ipython', '.jupyter', '.matplotlib', '.vscode', 'anaconda3', 'AppData', 'Application Data', 'cat.py', 'Contacts', 'Cookies', 'Day 8 - Loops.ipynb', 'day-05-dictionaries.ipynb', 'Day10_File_Handling.ipynb', 'Day11_Numpy_Basics.ipynb', 'Day12_Numpy_Advanced.ipynb', 'Day13_Pandas_Series&DataFrames.ipynb', 'Day14_Pandas_Indexing_Filtering_Sorting.ipynb', 'Day1_Basics.ipynb', 'Day2_Data_Types.ipynb', 'day4_tuples.ipynb', 'Day6_Sets.ipynb', 'Day7_Functions_in_Python.ipynb', 'DAY9_Functions_in_Python.ipynb', 'day_3_strings_and_operations.ipynb', 'Day_7_Conditionals.ipynb', 'Desktop', 'Documents', 'Downloads', 'Favorites', 'grade.py', 'hogwarts.py', 'house.py', 'IntelGraphicsProfiles', 'Links', 'Local Settings', 'Music', 'My Documents', 'my_notes.txt', 'NetHood', 'NTUSER.DAT', 'ntuser.dat.LOG1', 'ntuser.dat.LOG2', 'NTUSER.DAT{1c2b59c6-c5f5-11eb-bacb-000d3a96488e}.TM.blf', 'NTUSER.DAT{1c2b59c6-c5f5-11eb-bacb-000d3a96488e}.TMContainer00000000000000000001.regtrans-ms', 'NTUSER.DAT{1c2b59c6-c5f5-11eb-bacb-000d3a96488e}.TMContainer00000000000000000002.regtrans-ms', 'ntuser.ini', 'OneDrive', 'Pictures', 'PrintHood', 'products.csv', 'Recent', 'report.py', 'Saved Games', 'Searches', 'SendTo', 'Start Menu', 'Templates', 'train.csv', 'Untitled.ipynb', 'Untitled1.ipynb', 'Untitled2.ipynb', 'Untitled3.ipynb', 'Videos', 'Zotero']\n"
     ]
    }
   ],
   "source": [
    "import os\n",
    "print(os.listdir())"
   ]
  },
  {
   "cell_type": "code",
   "execution_count": 8,
   "id": "3e32d6cc",
   "metadata": {},
   "outputs": [
    {
     "data": {
      "text/html": [
       "<div>\n",
       "<style scoped>\n",
       "    .dataframe tbody tr th:only-of-type {\n",
       "        vertical-align: middle;\n",
       "    }\n",
       "\n",
       "    .dataframe tbody tr th {\n",
       "        vertical-align: top;\n",
       "    }\n",
       "\n",
       "    .dataframe thead th {\n",
       "        text-align: right;\n",
       "    }\n",
       "</style>\n",
       "<table border=\"1\" class=\"dataframe\">\n",
       "  <thead>\n",
       "    <tr style=\"text-align: right;\">\n",
       "      <th></th>\n",
       "      <th>PassengerId</th>\n",
       "      <th>Survived</th>\n",
       "      <th>Pclass</th>\n",
       "      <th>Name</th>\n",
       "      <th>Sex</th>\n",
       "      <th>Age</th>\n",
       "      <th>SibSp</th>\n",
       "      <th>Parch</th>\n",
       "      <th>Ticket</th>\n",
       "      <th>Fare</th>\n",
       "      <th>Cabin</th>\n",
       "      <th>Embarked</th>\n",
       "    </tr>\n",
       "  </thead>\n",
       "  <tbody>\n",
       "    <tr>\n",
       "      <th>0</th>\n",
       "      <td>1</td>\n",
       "      <td>0</td>\n",
       "      <td>3</td>\n",
       "      <td>Braund, Mr. Owen Harris</td>\n",
       "      <td>male</td>\n",
       "      <td>22.0</td>\n",
       "      <td>1</td>\n",
       "      <td>0</td>\n",
       "      <td>A/5 21171</td>\n",
       "      <td>7.2500</td>\n",
       "      <td>NaN</td>\n",
       "      <td>S</td>\n",
       "    </tr>\n",
       "    <tr>\n",
       "      <th>1</th>\n",
       "      <td>2</td>\n",
       "      <td>1</td>\n",
       "      <td>1</td>\n",
       "      <td>Cumings, Mrs. John Bradley (Florence Briggs Th...</td>\n",
       "      <td>female</td>\n",
       "      <td>38.0</td>\n",
       "      <td>1</td>\n",
       "      <td>0</td>\n",
       "      <td>PC 17599</td>\n",
       "      <td>71.2833</td>\n",
       "      <td>C85</td>\n",
       "      <td>C</td>\n",
       "    </tr>\n",
       "    <tr>\n",
       "      <th>2</th>\n",
       "      <td>3</td>\n",
       "      <td>1</td>\n",
       "      <td>3</td>\n",
       "      <td>Heikkinen, Miss. Laina</td>\n",
       "      <td>female</td>\n",
       "      <td>26.0</td>\n",
       "      <td>0</td>\n",
       "      <td>0</td>\n",
       "      <td>STON/O2. 3101282</td>\n",
       "      <td>7.9250</td>\n",
       "      <td>NaN</td>\n",
       "      <td>S</td>\n",
       "    </tr>\n",
       "    <tr>\n",
       "      <th>3</th>\n",
       "      <td>4</td>\n",
       "      <td>1</td>\n",
       "      <td>1</td>\n",
       "      <td>Futrelle, Mrs. Jacques Heath (Lily May Peel)</td>\n",
       "      <td>female</td>\n",
       "      <td>35.0</td>\n",
       "      <td>1</td>\n",
       "      <td>0</td>\n",
       "      <td>113803</td>\n",
       "      <td>53.1000</td>\n",
       "      <td>C123</td>\n",
       "      <td>S</td>\n",
       "    </tr>\n",
       "    <tr>\n",
       "      <th>4</th>\n",
       "      <td>5</td>\n",
       "      <td>0</td>\n",
       "      <td>3</td>\n",
       "      <td>Allen, Mr. William Henry</td>\n",
       "      <td>male</td>\n",
       "      <td>35.0</td>\n",
       "      <td>0</td>\n",
       "      <td>0</td>\n",
       "      <td>373450</td>\n",
       "      <td>8.0500</td>\n",
       "      <td>NaN</td>\n",
       "      <td>S</td>\n",
       "    </tr>\n",
       "  </tbody>\n",
       "</table>\n",
       "</div>"
      ],
      "text/plain": [
       "   PassengerId  Survived  Pclass  \\\n",
       "0            1         0       3   \n",
       "1            2         1       1   \n",
       "2            3         1       3   \n",
       "3            4         1       1   \n",
       "4            5         0       3   \n",
       "\n",
       "                                                Name     Sex   Age  SibSp  \\\n",
       "0                            Braund, Mr. Owen Harris    male  22.0      1   \n",
       "1  Cumings, Mrs. John Bradley (Florence Briggs Th...  female  38.0      1   \n",
       "2                             Heikkinen, Miss. Laina  female  26.0      0   \n",
       "3       Futrelle, Mrs. Jacques Heath (Lily May Peel)  female  35.0      1   \n",
       "4                           Allen, Mr. William Henry    male  35.0      0   \n",
       "\n",
       "   Parch            Ticket     Fare Cabin Embarked  \n",
       "0      0         A/5 21171   7.2500   NaN        S  \n",
       "1      0          PC 17599  71.2833   C85        C  \n",
       "2      0  STON/O2. 3101282   7.9250   NaN        S  \n",
       "3      0            113803  53.1000  C123        S  \n",
       "4      0            373450   8.0500   NaN        S  "
      ]
     },
     "execution_count": 8,
     "metadata": {},
     "output_type": "execute_result"
    }
   ],
   "source": [
    "# Cell 1: Import Pandas and load train.csv\n",
    "import pandas as pd\n",
    "\n",
    "# Load Titanic dataset\n",
    "df = pd.read_csv('train.csv')\n",
    "# Preview the first 5 rows\n",
    "df.head()"
   ]
  },
  {
   "cell_type": "code",
   "execution_count": 9,
   "id": "fb028693",
   "metadata": {},
   "outputs": [
    {
     "name": "stdout",
     "output_type": "stream",
     "text": [
      "Using .loc (Name, Age for first 5 rows):\n",
      "                                                 Name   Age\n",
      "0                            Braund, Mr. Owen Harris  22.0\n",
      "1  Cumings, Mrs. John Bradley (Florence Briggs Th...  38.0\n",
      "2                             Heikkinen, Miss. Laina  26.0\n",
      "3       Futrelle, Mrs. Jacques Heath (Lily May Peel)  35.0\n",
      "4                           Allen, Mr. William Henry  35.0\n",
      "\n",
      "Using .iloc (same subset):\n",
      "                                                 Name   Age\n",
      "0                            Braund, Mr. Owen Harris  22.0\n",
      "1  Cumings, Mrs. John Bradley (Florence Briggs Th...  38.0\n",
      "2                             Heikkinen, Miss. Laina  26.0\n",
      "3       Futrelle, Mrs. Jacques Heath (Lily May Peel)  35.0\n",
      "4                           Allen, Mr. William Henry  35.0\n",
      "\n",
      "First 5 names (direct access):\n",
      " 0                              Braund, Mr. Owen Harris\n",
      "1    Cumings, Mrs. John Bradley (Florence Briggs Th...\n",
      "2                               Heikkinen, Miss. Laina\n",
      "3         Futrelle, Mrs. Jacques Heath (Lily May Peel)\n",
      "4                             Allen, Mr. William Henry\n",
      "Name: Name, dtype: object\n"
     ]
    }
   ],
   "source": [
    "# Cell 2: Indexing with .loc and .iloc\n",
    "# Select 'Name' and 'Age' for rows with index labels 0 to 4 using .loc\n",
    "loc_subset = df.loc[0:4, ['Name', 'Age']]\n",
    "print(\"Using .loc (Name, Age for first 5 rows):\\n\", loc_subset)\n",
    "\n",
    "# Select same columns but using integer positions with .iloc\n",
    "iloc_subset = df.iloc[0:5, [3, 5]]  # Name is column 3, Age is column 5\n",
    "print(\"\\nUsing .iloc (same subset):\\n\", iloc_subset)\n",
    "\n",
    "# Direct column access\n",
    "names = df['Name']\n",
    "print(\"\\nFirst 5 names (direct access):\\n\", names.head())"
   ]
  },
  {
   "cell_type": "code",
   "execution_count": 10,
   "id": "96bd8cb3",
   "metadata": {},
   "outputs": [
    {
     "name": "stdout",
     "output_type": "stream",
     "text": [
      "Passengers over 25 in first class:\n",
      "                                                  Name   Age  Pclass     Fare\n",
      "1   Cumings, Mrs. John Bradley (Florence Briggs Th...  38.0       1  71.2833\n",
      "3        Futrelle, Mrs. Jacques Heath (Lily May Peel)  35.0       1  53.1000\n",
      "6                             McCarthy, Mr. Timothy J  54.0       1  51.8625\n",
      "11                           Bonnell, Miss. Elizabeth  58.0       1  26.5500\n",
      "23                       Sloper, Mr. William Thompson  28.0       1  35.5000\n",
      "\n",
      "Survivors with fare > $50:\n",
      "                                                  Name      Fare  Survived\n",
      "1   Cumings, Mrs. John Bradley (Florence Briggs Th...   71.2833         1\n",
      "3        Futrelle, Mrs. Jacques Heath (Lily May Peel)   53.1000         1\n",
      "31     Spencer, Mrs. William Augustus (Marie Eugenie)  146.5208         1\n",
      "52           Harper, Mrs. Henry Sleeper (Myna Haxtun)   76.7292         1\n",
      "61                                Icard, Miss. Amelie   80.0000         1\n"
     ]
    }
   ],
   "source": [
    "# Cell 3: Filtering rows\n",
    "# Passengers older than 25 in first class (Pclass == 1)\n",
    "filtered = df[(df['Age'] > 25) & (df['Pclass'] == 1)][['Name', 'Age', 'Pclass', 'Fare']]\n",
    "print(\"Passengers over 25 in first class:\\n\", filtered.head())\n",
    "\n",
    "# Passengers who survived and paid fare > $50\n",
    "high_fare_survivors = df[(df['Survived'] == 1) & (df['Fare'] > 50)][['Name', 'Fare', 'Survived']]\n",
    "print(\"\\nSurvivors with fare > $50:\\n\", high_fare_survivors.head())"
   ]
  },
  {
   "cell_type": "code",
   "execution_count": 11,
   "id": "aa300599",
   "metadata": {},
   "outputs": [
    {
     "name": "stdout",
     "output_type": "stream",
     "text": [
      "Top 5 by Fare (descending):\n",
      "                                    Name      Fare  Pclass\n",
      "258                    Ward, Miss. Anna  512.3292       1\n",
      "737              Lesurer, Mr. Gustave J  512.3292       1\n",
      "679  Cardeza, Mr. Thomas Drake Martinez  512.3292       1\n",
      "88           Fortune, Miss. Mabel Helen  263.0000       1\n",
      "27       Fortune, Mr. Charles Alexander  263.0000       1\n",
      "\n",
      "Sorted by Pclass and Age:\n",
      "                                     Name  Pclass    Age\n",
      "305       Allison, Master. Hudson Trevor       1   0.92\n",
      "297         Allison, Miss. Helen Loraine       1   2.00\n",
      "445            Dodge, Master. Washington       1   4.00\n",
      "802  Carter, Master. William Thornton II       1  11.00\n",
      "435            Carter, Miss. Lucile Polk       1  14.00\n",
      "\n",
      "First 5 rows sorted by index:\n",
      "    PassengerId  Survived  Pclass  \\\n",
      "0            1         0       3   \n",
      "1            2         1       1   \n",
      "2            3         1       3   \n",
      "3            4         1       1   \n",
      "4            5         0       3   \n",
      "\n",
      "                                                Name     Sex   Age  SibSp  \\\n",
      "0                            Braund, Mr. Owen Harris    male  22.0      1   \n",
      "1  Cumings, Mrs. John Bradley (Florence Briggs Th...  female  38.0      1   \n",
      "2                             Heikkinen, Miss. Laina  female  26.0      0   \n",
      "3       Futrelle, Mrs. Jacques Heath (Lily May Peel)  female  35.0      1   \n",
      "4                           Allen, Mr. William Henry    male  35.0      0   \n",
      "\n",
      "   Parch            Ticket     Fare Cabin Embarked  \n",
      "0      0         A/5 21171   7.2500   NaN        S  \n",
      "1      0          PC 17599  71.2833   C85        C  \n",
      "2      0  STON/O2. 3101282   7.9250   NaN        S  \n",
      "3      0            113803  53.1000  C123        S  \n",
      "4      0            373450   8.0500   NaN        S  \n"
     ]
    }
   ],
   "source": [
    "# Cell 4: Sorting data\n",
    "# Sort by Fare (descending)\n",
    "sorted_by_fare = df.sort_values(by='Fare', ascending=False)[['Name', 'Fare', 'Pclass']]\n",
    "print(\"Top 5 by Fare (descending):\\n\", sorted_by_fare.head())\n",
    "\n",
    "# Multi-level sorting: by Pclass (ascending), then Age (ascending)\n",
    "multi_sorted = df.sort_values(by=['Pclass', 'Age'], ascending=[True, True])[['Name', 'Pclass', 'Age']]\n",
    "print(\"\\nSorted by Pclass and Age:\\n\", multi_sorted.head())\n",
    "\n",
    "# Sort by index (if index is messy)\n",
    "index_sorted = df.sort_index()\n",
    "print(\"\\nFirst 5 rows sorted by index:\\n\", index_sorted.head())"
   ]
  },
  {
   "cell_type": "code",
   "execution_count": 12,
   "id": "b7cb77c3",
   "metadata": {},
   "outputs": [
    {
     "name": "stdout",
     "output_type": "stream",
     "text": [
      "Filtered data saved to 'titanic_filtered_day14.csv'\n"
     ]
    }
   ],
   "source": [
    "# Cell 5: Save filtered/sorted data to CSV\n",
    "filtered.to_csv('titanic_filtered_day14.csv', index=False)\n",
    "print(\"Filtered data saved to 'titanic_filtered_day14.csv'\")"
   ]
  },
  {
   "cell_type": "code",
   "execution_count": 16,
   "id": "0061b04c",
   "metadata": {},
   "outputs": [
    {
     "name": "stdout",
     "output_type": "stream",
     "text": [
      "Practice: Survivors with Fare > $100, sorted by Age:\n",
      "                                     Name    Age      Fare\n",
      "305       Allison, Master. Hudson Trevor   0.92  151.5500\n",
      "802  Carter, Master. William Thornton II  11.00  120.0000\n",
      "435            Carter, Miss. Lucile Polk  14.00  120.0000\n",
      "689    Madill, Miss. Georgette Alexandra  15.00  211.3375\n",
      "550          Thayer, Mr. John Borland Jr  17.00  110.8833\n"
     ]
    }
   ],
   "source": [
    "#Practice Exercises\n",
    "#Filter passengers where Fare > 100 and Survived == 1, sort by Age (ascending), and select Name, Age, Fare\n",
    "filter = df[(df[\"Fare\"] > 100) & (df[\"Survived\"] == 1)][[\"Name\", \"Age\", \"Fare\"]]\n",
    "sort = filter.sort_values(\"Age\", ascending = True)\n",
    "sort.to_csv('titanic_practice_day14.csv', index=False)\n",
    "print(\"Practice: Survivors with Fare > $100, sorted by Age:\\n\", sort.head())"
   ]
  }
 ],
 "metadata": {
  "kernelspec": {
   "display_name": "Python 3 (ipykernel)",
   "language": "python",
   "name": "python3"
  },
  "language_info": {
   "codemirror_mode": {
    "name": "ipython",
    "version": 3
   },
   "file_extension": ".py",
   "mimetype": "text/x-python",
   "name": "python",
   "nbconvert_exporter": "python",
   "pygments_lexer": "ipython3",
   "version": "3.11.4"
  }
 },
 "nbformat": 4,
 "nbformat_minor": 5
}
