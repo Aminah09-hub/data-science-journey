{
 "cells": [
  {
   "cell_type": "code",
   "execution_count": 1,
   "id": "31fbec55",
   "metadata": {},
   "outputs": [
    {
     "name": "stdout",
     "output_type": "stream",
     "text": [
      "Ali\n",
      "25\n",
      "name : Ali\n",
      "age : 26\n",
      "job : Engineer\n"
     ]
    },
    {
     "data": {
      "text/plain": [
       "dict_items([('name', 'Ali'), ('age', 26), ('job', 'Engineer')])"
      ]
     },
     "execution_count": 1,
     "metadata": {},
     "output_type": "execute_result"
    }
   ],
   "source": [
    "#Dictionaries in Python are unordered collections of key-value pairs. \n",
    "#Creating a dictionary\n",
    "person = {\"name\": \"Ali\", \"age\": 25, \"city\": \"Abuja\"}\n",
    "\n",
    "#Accessing Values\n",
    "print(person[\"name\"])        # Ali\n",
    "print(person.get(\"age\"))     # 25\n",
    "\n",
    "#Updating values\n",
    "person[\"age\"] = 26\n",
    "\n",
    "#Adding new key-value pairs\n",
    "person[\"job\"] = \"Engineer\"\n",
    "\n",
    "#Removing a pair\n",
    "del person[\"city\"]\n",
    "\n",
    "#Looping through dictionary\n",
    "for key, value in person.items():\n",
    "    print(key, \":\", value)\n",
    "\n",
    "#Common methods\n",
    "person.keys()      # all keys\n",
    "person.values()    # all values\n",
    "person.items()     # all key-value pairs\n"
   ]
  },
  {
   "cell_type": "code",
   "execution_count": 4,
   "id": "a111d35b",
   "metadata": {},
   "outputs": [
    {
     "name": "stdout",
     "output_type": "stream",
     "text": [
      "Computer Science\n",
      "{'name': 'Zainab', 'age': 20, 'major': 'Computer Science', 'GPA': 3.89}\n",
      "dict_keys(['apple', 'banana', 'mango'])\n",
      "{'apple': 10, 'mango': 10}\n"
     ]
    }
   ],
   "source": [
    "#Practice Exercises\n",
    "#Create a dictionary for a student\n",
    "student = {\"name\": \"Zainab\", \"age\": 19, \"major\": \"Computer Science\"}\n",
    "\n",
    "#print her major\n",
    "print(student[\"major\"])\n",
    "\n",
    "#Add GPA to be 3.89\n",
    "student[\"GPA\"] = 3.89\n",
    "\n",
    "#Update age to 20\n",
    "student[\"age\"] = 20\n",
    "\n",
    "#Print the final output\n",
    "print(student)\n",
    "\n",
    "#Tuple is given to work on\n",
    "fruits = {\n",
    "    \"apple\": 10,\n",
    "    \"banana\": 5,\n",
    "    \"mango\": 7\n",
    "}\n",
    "\n",
    "#Print all fruit names\n",
    "print(fruits.keys())\n",
    "\n",
    "#Increase mango count by 3\n",
    "fruits[\"mango\"] += 3\n",
    "\n",
    "#Delete banana from the dictionary\n",
    "del fruits[\"banana\"]\n",
    "\n",
    "#Print the final output\n",
    "print(fruits)\n"
   ]
  }
 ],
 "metadata": {
  "kernelspec": {
   "display_name": "Python 3 (ipykernel)",
   "language": "python",
   "name": "python3"
  },
  "language_info": {
   "codemirror_mode": {
    "name": "ipython",
    "version": 3
   },
   "file_extension": ".py",
   "mimetype": "text/x-python",
   "name": "python",
   "nbconvert_exporter": "python",
   "pygments_lexer": "ipython3",
   "version": "3.11.4"
  }
 },
 "nbformat": 4,
 "nbformat_minor": 5
}
