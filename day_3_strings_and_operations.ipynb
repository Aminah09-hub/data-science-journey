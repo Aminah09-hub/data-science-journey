{
 "cells": [
  {
   "cell_type": "code",
   "execution_count": 1,
   "id": "399bdc22",
   "metadata": {},
   "outputs": [
    {
     "name": "stdout",
     "output_type": "stream",
     "text": [
      "Hello, Aminah!\n",
      "==============================\n",
      "A\n",
      "h\n",
      "min\n",
      "AMINAH\n",
      "aminah\n",
      "True\n",
      "False\n",
      "data science is fun!\n",
      "  data science is awesome!  \n",
      "['data', 'science', 'is', 'fun!']\n",
      "data-science-is-fun!\n",
      "My name is Aminah and I am 21 years old.\n"
     ]
    }
   ],
   "source": [
    "# Creating strings\n",
    "name = \"Aminah\"\n",
    "greeting = 'Hello'\n",
    "\n",
    "# Concatenation\n",
    "print(greeting + \", \" + name + \"!\")\n",
    "\n",
    "# Repeating\n",
    "print(\"=\" * 30)\n",
    "\n",
    "# Indexing\n",
    "print(name[0])     # First character\n",
    "print(name[-1])    # Last character\n",
    "\n",
    "# Slicing\n",
    "print(name[1:4])   # 'min'\n",
    "\n",
    "# String methods\n",
    "print(name.upper())      # AMINAH\n",
    "print(name.lower())      # aminah\n",
    "print(name.startswith(\"A\"))  # True\n",
    "print(name.endswith(\"z\"))    # False\n",
    "\n",
    "# Replace and strip\n",
    "phrase = \"  data science is fun!  \"\n",
    "print(phrase.strip())            # remove spaces\n",
    "print(phrase.replace(\"fun\", \"awesome\"))\n",
    "\n",
    "# Split and join\n",
    "words = phrase.strip().split()\n",
    "print(words)\n",
    "joined = \"-\".join(words)\n",
    "print(joined)\n",
    "\n",
    "# f-string formatting\n",
    "age = 21\n",
    "print(f\"My name is {name} and I am {age} years old.\")\n"
   ]
  },
  {
   "cell_type": "code",
   "execution_count": 2,
   "id": "dc681d64",
   "metadata": {},
   "outputs": [
    {
     "name": "stdout",
     "output_type": "stream",
     "text": [
      "NOTHING WORTH HAVING COMES EASY!\n",
      "Nothing wor\n",
      "Nothing worth getting comes easy!\n",
      "2\n",
      "Quote of the day: < Nothing worth having comes easy! >\n"
     ]
    }
   ],
   "source": [
    "#Practice Exercise\n",
    "quote = \"Nothing worth having comes easy!\"\n",
    "\n",
    "#Converting to uppercase\n",
    "print(quote.upper())\n",
    "\n",
    "#Slicing the first 10 characters\n",
    "print(quote[0:11])\n",
    "\n",
    "#Replacing a word\n",
    "print(quote.replace(\"having\", \"getting\"))\n",
    "\n",
    "#Count how many times \"a\" appears\n",
    "print(quote.count('a'))\n",
    "\n",
    "#Print a sentence with an f-string\n",
    "print(f\"Quote of the day: < {quote} >\")"
   ]
  }
 ],
 "metadata": {
  "kernelspec": {
   "display_name": "Python 3 (ipykernel)",
   "language": "python",
   "name": "python3"
  },
  "language_info": {
   "codemirror_mode": {
    "name": "ipython",
    "version": 3
   },
   "file_extension": ".py",
   "mimetype": "text/x-python",
   "name": "python",
   "nbconvert_exporter": "python",
   "pygments_lexer": "ipython3",
   "version": "3.11.4"
  }
 },
 "nbformat": 4,
 "nbformat_minor": 5
}
